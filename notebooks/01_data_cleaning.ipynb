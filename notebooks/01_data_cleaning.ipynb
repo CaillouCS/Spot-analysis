{
 "cells": [
  {
   "cell_type": "code",
   "execution_count": 14,
   "id": "6973b4c4",
   "metadata": {},
   "outputs": [
    {
     "ename": "ImportError",
     "evalue": "cannot import name 'clean_data' from 'data_manipulation_func' (/Users/gonot/Desktop/Energy project/epex-spot-analysis/src/data_manipulation_func.py)",
     "output_type": "error",
     "traceback": [
      "\u001b[31m---------------------------------------------------------------------------\u001b[39m",
      "\u001b[31mImportError\u001b[39m                               Traceback (most recent call last)",
      "\u001b[36mCell\u001b[39m\u001b[36m \u001b[39m\u001b[32mIn[14]\u001b[39m\u001b[32m, line 5\u001b[39m\n\u001b[32m      2\u001b[39m \u001b[38;5;28;01mimport\u001b[39;00m\u001b[38;5;250m \u001b[39m\u001b[34;01mos\u001b[39;00m\n\u001b[32m      3\u001b[39m sys.path.append(os.path.abspath(\u001b[33m\"\u001b[39m\u001b[33m../src\u001b[39m\u001b[33m\"\u001b[39m))\n\u001b[32m----> \u001b[39m\u001b[32m5\u001b[39m \u001b[38;5;28;01mfrom\u001b[39;00m\u001b[38;5;250m \u001b[39m\u001b[34;01mdata_manipulation_func\u001b[39;00m\u001b[38;5;250m \u001b[39m\u001b[38;5;28;01mimport\u001b[39;00m load_epex_data, clean_data\n\u001b[32m      7\u001b[39m df = load_epex_data(\u001b[33m'\u001b[39m\u001b[33m../data/spot_prices_2025_raw.csv\u001b[39m\u001b[33m'\u001b[39m)\n\u001b[32m      8\u001b[39m df = clean_data(df)\n",
      "\u001b[31mImportError\u001b[39m: cannot import name 'clean_data' from 'data_manipulation_func' (/Users/gonot/Desktop/Energy project/epex-spot-analysis/src/data_manipulation_func.py)"
     ]
    }
   ],
   "source": [
    "import sys\n",
    "import os\n",
    "sys.path.append(os.path.abspath(\"../src\"))\n",
    "\n",
    "from data_manipulation_func import load_epex_data, clean_data\n",
    "\n",
    "df = load_epex_data('../data/spot_prices_2025_raw.csv')\n",
    "df = clean_data(df)\n",
    "df.head()"
   ]
  }
 ],
 "metadata": {
  "kernelspec": {
   "display_name": "Python 3",
   "language": "python",
   "name": "python3"
  },
  "language_info": {
   "codemirror_mode": {
    "name": "ipython",
    "version": 3
   },
   "file_extension": ".py",
   "mimetype": "text/x-python",
   "name": "python",
   "nbconvert_exporter": "python",
   "pygments_lexer": "ipython3",
   "version": "3.13.3"
  }
 },
 "nbformat": 4,
 "nbformat_minor": 5
}
