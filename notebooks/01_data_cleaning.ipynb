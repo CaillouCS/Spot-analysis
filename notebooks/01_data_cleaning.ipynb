{
 "cells": [
  {
   "cell_type": "code",
   "execution_count": 66,
   "id": "6f2edd91",
   "metadata": {},
   "outputs": [
    {
     "name": "stdout",
     "output_type": "stream",
     "text": [
      "The autoreload extension is already loaded. To reload it, use:\n",
      "  %reload_ext autoreload\n"
     ]
    }
   ],
   "source": [
    "# Auto-reload setup\n",
    "%load_ext autoreload\n",
    "%autoreload 2"
   ]
  },
  {
   "cell_type": "code",
   "execution_count": 67,
   "id": "6973b4c4",
   "metadata": {},
   "outputs": [
    {
     "name": "stdout",
     "output_type": "stream",
     "text": [
      "Successful import\n"
     ]
    }
   ],
   "source": [
    "import sys\n",
    "import os\n",
    "sys.path.append(os.path.abspath(\"../src\"))\n",
    "from data_processing import *\n",
    "print('Successful import')"
   ]
  },
  {
   "cell_type": "code",
   "execution_count": 68,
   "id": "ed2b415e",
   "metadata": {},
   "outputs": [
    {
     "name": "stdout",
     "output_type": "stream",
     "text": [
      "4\n"
     ]
    }
   ],
   "source": [
    "folder = '../data/raw'\n",
    "types = ['prices_raw', 'total_load_day_ahead_raw', 'generation_production_raw']\n",
    "\n",
    "grouped = group_files_by_type(folder, types, extension='.csv')\n",
    "dfs = load_dataframes(grouped)\n",
    "\n",
    "# Access each DataFrame\n",
    "df_prices = dfs['prices_raw']\n",
    "df_load = dfs['total_load_day_ahead_raw']\n",
    "df_gen = dfs['generation_production_raw']\n",
    "print(len(df_load))"
   ]
  },
  {
   "cell_type": "code",
   "execution_count": 69,
   "id": "c2ff11a9",
   "metadata": {},
   "outputs": [
    {
     "name": "stdout",
     "output_type": "stream",
     "text": [
      "4\n",
      "Shape: (8784, 2)\n",
      "\n",
      "Column Types:\n",
      "Date          datetime64[ns]\n",
      "Total Load           float64\n",
      "dtype: object\n",
      "\n",
      "Missing Values:\n",
      "Date          0\n",
      "Total Load    0\n",
      "dtype: int64\n",
      "\n",
      "First Rows:\n",
      "                 Date  Total Load\n",
      "0 2024-01-01 00:00:00     52847.0\n",
      "1 2024-01-01 01:00:00     51600.0\n",
      "2 2024-01-01 02:00:00     50992.0\n",
      "3 2024-01-01 03:00:00     48187.0\n",
      "4 2024-01-01 04:00:00     46479.0\n",
      "\n",
      "Last Rows:\n",
      "                    Date  Total Load\n",
      "8779 2024-12-31 19:00:00     68220.0\n",
      "8780 2024-12-31 20:00:00     65266.0\n",
      "8781 2024-12-31 21:00:00     62886.0\n",
      "8782 2024-12-31 22:00:00     63983.0\n",
      "8783 2024-12-31 23:00:00     64603.0\n",
      "----------------------------------------\n",
      "OUI\n",
      "OUI\n",
      "OUI\n",
      "OUI\n",
      "Shape: (35064, 2)\n",
      "\n",
      "Column Types:\n",
      "Date          datetime64[ns]\n",
      "Total Load           float64\n",
      "dtype: object\n",
      "\n",
      "Missing Values:\n",
      "Date          0\n",
      "Total Load    0\n",
      "dtype: int64\n",
      "\n",
      "First Rows:\n",
      "                 Date  Total Load\n",
      "0 2021-01-01 00:00:00     65761.0\n",
      "1 2021-01-01 01:00:00     64139.0\n",
      "2 2021-01-01 02:00:00     62657.0\n",
      "3 2021-01-01 03:00:00     59481.0\n",
      "4 2021-01-01 04:00:00     57656.0\n",
      "\n",
      "Last Rows:\n",
      "                     Date  Total Load\n",
      "35059 2024-12-31 19:00:00     68220.0\n",
      "35060 2024-12-31 20:00:00     65266.0\n",
      "35061 2024-12-31 21:00:00     62886.0\n",
      "35062 2024-12-31 22:00:00     63983.0\n",
      "35063 2024-12-31 23:00:00     64603.0\n",
      "----------------------------------------\n"
     ]
    },
    {
     "name": "stderr",
     "output_type": "stream",
     "text": [
      "/Users/gonot/Desktop/Energy project/epex-spot-analysis/src/data_processing.py:54: FutureWarning: 'H' is deprecated and will be removed in a future version, please use 'h' instead.\n",
      "  df = df.resample('H').mean()\n",
      "/Users/gonot/Desktop/Energy project/epex-spot-analysis/src/data_processing.py:54: FutureWarning: 'H' is deprecated and will be removed in a future version, please use 'h' instead.\n",
      "  df = df.resample('H').mean()\n",
      "/Users/gonot/Desktop/Energy project/epex-spot-analysis/src/data_processing.py:54: FutureWarning: 'H' is deprecated and will be removed in a future version, please use 'h' instead.\n",
      "  df = df.resample('H').mean()\n",
      "/Users/gonot/Desktop/Energy project/epex-spot-analysis/src/data_processing.py:54: FutureWarning: 'H' is deprecated and will be removed in a future version, please use 'h' instead.\n",
      "  df = df.resample('H').mean()\n"
     ]
    }
   ],
   "source": [
    "df_load = [drop_unecessary_columns(df, 'Day-ahead Total Load Forecast [MW] - BZN|FR') for df in df_load] \n",
    "df_load = [rename_and_reoder_columns(df, None, ['Date', 'Total Load']) for df in df_load]\n",
    "df_load = [setup_time(df, 'Date', '%d.%m.%Y %H:%M') for df in df_load]\n",
    "df_load = [fill_hourly_nans_by_rolling_mean(df, 'Date', 'Total Load') for df in df_load]\n",
    "print(len(df_load))\n",
    "df_summary(df_load[0])\n",
    "df = concat_data(df_load)\n",
    "df_summary(df)\n",
    "df.to_csv('../data/clean/TESST.csv', index=False)"
   ]
  },
  {
   "cell_type": "code",
   "execution_count": 70,
   "id": "6973b4c4",
   "metadata": {},
   "outputs": [
    {
     "ename": "NameError",
     "evalue": "name 'clean_data' is not defined",
     "output_type": "error",
     "traceback": [
      "\u001b[31m---------------------------------------------------------------------------\u001b[39m",
      "\u001b[31mNameError\u001b[39m                                 Traceback (most recent call last)",
      "\u001b[36mCell\u001b[39m\u001b[36m \u001b[39m\u001b[32mIn[70]\u001b[39m\u001b[32m, line 2\u001b[39m\n\u001b[32m      1\u001b[39m df = load_epex_data(\u001b[33m'\u001b[39m\u001b[33m../data/raw/2021_prices_raw.csv\u001b[39m\u001b[33m'\u001b[39m)\n\u001b[32m----> \u001b[39m\u001b[32m2\u001b[39m df = \u001b[43mclean_data\u001b[49m(df, \u001b[33m'\u001b[39m\u001b[33mMTU (CET/CEST)\u001b[39m\u001b[33m'\u001b[39m)\n\u001b[32m      3\u001b[39m df.to_csv(\u001b[33m'\u001b[39m\u001b[33m../data/clean/2021_prices_clean.csv\u001b[39m\u001b[33m'\u001b[39m, index=\u001b[38;5;28;01mFalse\u001b[39;00m)\n",
      "\u001b[31mNameError\u001b[39m: name 'clean_data' is not defined"
     ]
    }
   ],
   "source": [
    "df = load_epex_data('../data/raw/2021_prices_raw.csv')\n",
    "df = clean_data(df, 'MTU (CET/CEST)')\n",
    "df.to_csv('../data/clean/2021_prices_clean.csv', index=False)"
   ]
  },
  {
   "cell_type": "code",
   "execution_count": null,
   "id": "61872fc4",
   "metadata": {},
   "outputs": [],
   "source": [
    "from data_processing import exploitable_data\n",
    "\n",
    "folderpath = '../data/clean'\n",
    "df_concat = exploitable_data(folderpath)\n",
    "df_concat.to_csv(f'{folderpath}/exploitable/multiple_years.csv', index=False)"
   ]
  }
 ],
 "metadata": {
  "kernelspec": {
   "display_name": "Python 3",
   "language": "python",
   "name": "python3"
  },
  "language_info": {
   "codemirror_mode": {
    "name": "ipython",
    "version": 3
   },
   "file_extension": ".py",
   "mimetype": "text/x-python",
   "name": "python",
   "nbconvert_exporter": "python",
   "pygments_lexer": "ipython3",
   "version": "3.13.3"
  }
 },
 "nbformat": 4,
 "nbformat_minor": 5
}
