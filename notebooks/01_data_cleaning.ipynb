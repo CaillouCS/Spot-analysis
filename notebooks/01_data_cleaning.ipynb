{
 "cells": [
  {
   "cell_type": "code",
   "execution_count": 35,
   "id": "6f2edd91",
   "metadata": {},
   "outputs": [
    {
     "name": "stdout",
     "output_type": "stream",
     "text": [
      "The autoreload extension is already loaded. To reload it, use:\n",
      "  %reload_ext autoreload\n"
     ]
    }
   ],
   "source": [
    "# Auto-reload setup\n",
    "%load_ext autoreload\n",
    "%autoreload 2"
   ]
  },
  {
   "cell_type": "code",
   "execution_count": 36,
   "id": "6973b4c4",
   "metadata": {},
   "outputs": [
    {
     "name": "stdout",
     "output_type": "stream",
     "text": [
      "Successful import\n"
     ]
    }
   ],
   "source": [
    "import sys\n",
    "import os\n",
    "sys.path.append(os.path.abspath('../src'))\n",
    "from data_processing import *\n",
    "print('Successful import')"
   ]
  },
  {
   "cell_type": "code",
   "execution_count": 37,
   "id": "ed2b415e",
   "metadata": {},
   "outputs": [
    {
     "name": "stdout",
     "output_type": "stream",
     "text": [
      "4\n"
     ]
    }
   ],
   "source": [
    "folder = '../data/raw'\n",
    "types = ['prices_raw', 'total_load_day_ahead_raw', 'generation_production_raw']\n",
    "\n",
    "grouped = group_files_by_type(folder, types, extension='.csv')\n",
    "dfs = load_dataframes(grouped)\n",
    "\n",
    "# Access each DataFrame\n",
    "df_prices = dfs['prices_raw']\n",
    "df_load = dfs['total_load_day_ahead_raw']\n",
    "df_gen = dfs['generation_production_raw']\n",
    "print(len(df_prices))"
   ]
  },
  {
   "cell_type": "code",
   "execution_count": 38,
   "id": "c2ff11a9",
   "metadata": {},
   "outputs": [
    {
     "name": "stdout",
     "output_type": "stream",
     "text": [
      "OUI\n",
      "OUI\n",
      "OUI\n",
      "OUI\n",
      "Shape: (35064, 2)\n",
      "\n",
      "Column Types:\n",
      "Date          datetime64[ns]\n",
      "Total Load           float64\n",
      "dtype: object\n",
      "\n",
      "Missing Values:\n",
      "Date          0\n",
      "Total Load    0\n",
      "dtype: int64\n",
      "\n",
      "First Rows:\n",
      "                 Date  Total Load\n",
      "0 2021-01-01 00:00:00     65761.0\n",
      "1 2021-01-01 01:00:00     64139.0\n",
      "2 2021-01-01 02:00:00     62657.0\n",
      "3 2021-01-01 03:00:00     59481.0\n",
      "4 2021-01-01 04:00:00     57656.0\n",
      "\n",
      "Last Rows:\n",
      "                     Date  Total Load\n",
      "35059 2024-12-31 19:00:00     68220.0\n",
      "35060 2024-12-31 20:00:00     65266.0\n",
      "35061 2024-12-31 21:00:00     62886.0\n",
      "35062 2024-12-31 22:00:00     63983.0\n",
      "35063 2024-12-31 23:00:00     64603.0\n",
      "----------------------------------------\n"
     ]
    }
   ],
   "source": [
    "df_load = [drop_unecessary_columns(df, 'Day-ahead Total Load Forecast [MW] - BZN|FR') for df in df_load] \n",
    "df_load = [rename_and_reoder_columns(df, None, ['Date', 'Total Load']) for df in df_load]\n",
    "df_load = [setup_time(df, 'Date', '%d.%m.%Y %H:%M') for df in df_load]\n",
    "df_load = [fill_hourly_nans_by_rolling_mean(df, 'Date', 'Total Load') for df in df_load]\n",
    "\n",
    "df = concat_data(df_load)\n",
    "df_summary(df)\n",
    "df.to_csv('../data/clean/exploitable/Concat_load.csv', index=False)"
   ]
  },
  {
   "cell_type": "code",
   "execution_count": 39,
   "id": "d17ff370",
   "metadata": {},
   "outputs": [
    {
     "name": "stdout",
     "output_type": "stream",
     "text": [
      "OUI\n",
      "OUI\n",
      "OUI\n",
      "OUI\n",
      "Shape: (35064, 5)\n",
      "\n",
      "Column Types:\n",
      "Date             datetime64[ns]\n",
      "Nuclear                 float64\n",
      "Solar                   float64\n",
      "Wind Offshore           float64\n",
      "Wind Onshore            float64\n",
      "dtype: object\n",
      "\n",
      "Missing Values:\n",
      "Date                 0\n",
      "Nuclear              0\n",
      "Solar                0\n",
      "Wind Offshore    21432\n",
      "Wind Onshore         0\n",
      "dtype: int64\n",
      "\n",
      "First Rows:\n",
      "                 Date  Nuclear  Solar  Wind Offshore  Wind Onshore\n",
      "0 2021-01-01 00:00:00  50378.0    0.0            NaN        1082.0\n",
      "1 2021-01-01 01:00:00  49465.0    0.0            NaN        1075.0\n",
      "2 2021-01-01 02:00:00  48294.0    0.0            NaN        1086.0\n",
      "3 2021-01-01 03:00:00  48380.0    0.0            NaN        1149.0\n",
      "4 2021-01-01 04:00:00  48560.0    0.0            NaN        1170.0\n",
      "\n",
      "Last Rows:\n",
      "                     Date    Nuclear  Solar  Wind Offshore  Wind Onshore\n",
      "35059 2024-12-31 19:00:00  49890.625    0.0         83.125      1162.500\n",
      "35060 2024-12-31 20:00:00  49916.750    0.0        115.125      1204.875\n",
      "35061 2024-12-31 21:00:00  49966.750    0.0        120.000      1293.375\n",
      "35062 2024-12-31 22:00:00  49956.000    0.0        143.500      1382.750\n",
      "35063 2024-12-31 23:00:00  49809.250    0.0        163.875      1464.375\n",
      "----------------------------------------\n"
     ]
    }
   ],
   "source": [
    "df_gen = [drop_unecessary_columns(df, [\"Area\",\"Biomass - Actual Aggregated [MW]\",\"Energy storage - Actual Aggregated [MW]\",\"Fossil Brown coal/Lignite - Actual Aggregated [MW]\",\"Fossil Coal-derived gas - Actual Aggregated [MW]\",\"Fossil Gas - Actual Aggregated [MW]\",\"Fossil Hard coal - Actual Aggregated [MW]\",\"Fossil Oil - Actual Aggregated [MW]\",\"Fossil Oil shale - Actual Aggregated [MW]\",\"Fossil Peat - Actual Aggregated [MW]\",\"Geothermal - Actual Aggregated [MW]\",\"Hydro Pumped Storage - Actual Aggregated [MW]\",\"Hydro Pumped Storage - Actual Consumption [MW]\",\"Hydro Run-of-river and poundage - Actual Aggregated [MW]\",\"Hydro Water Reservoir - Actual Aggregated [MW]\",\"Marine - Actual Aggregated [MW]\",\"Other - Actual Aggregated [MW]\",\"Other renewable - Actual Aggregated [MW]\",\"Waste - Actual Aggregated [MW]\"]) for df in df_gen] \n",
    "df_gen = [rename_and_reoder_columns(df, None, ['Date', 'Nuclear', 'Solar', 'Wind Offshore', 'Wind Onshore']) for df in df_gen]\n",
    "df_gen = [setup_time(df, 'Date', '%d.%m.%Y %H:%M') for df in df_gen]\n",
    "df_gen = [fill_hourly_nans_by_rolling_mean(df, 'Date', 'Nuclear') for df in df_gen]\n",
    "df_gen = [fill_hourly_nans_by_rolling_mean(df, 'Date', 'Solar') for df in df_gen]\n",
    "df_gen = [fill_hourly_nans_by_rolling_mean(df, 'Date', 'Wind Offshore') for df in df_gen]\n",
    "df_gen = [fill_hourly_nans_by_rolling_mean(df, 'Date', 'Wind Onshore') for df in df_gen]\n",
    "\n",
    "df = concat_data(df_gen)\n",
    "df_summary(df)\n",
    "\n",
    "df.to_csv('../data/clean/exploitable/Concat_gen.csv', index=False)"
   ]
  },
  {
   "cell_type": "code",
   "execution_count": 40,
   "id": "543ae835",
   "metadata": {},
   "outputs": [
    {
     "name": "stdout",
     "output_type": "stream",
     "text": [
      "OUI\n",
      "OUI\n",
      "OUI\n",
      "OUI\n",
      "Shape: (35064, 2)\n",
      "\n",
      "Column Types:\n",
      "Date                         datetime64[ns]\n",
      "Day-ahead Price (EUR/MWh)           float64\n",
      "dtype: object\n",
      "\n",
      "Missing Values:\n",
      "Date                         0\n",
      "Day-ahead Price (EUR/MWh)    0\n",
      "dtype: int64\n",
      "\n",
      "First Rows:\n",
      "                 Date  Day-ahead Price (EUR/MWh)\n",
      "0 2021-01-01 00:00:00                      50.87\n",
      "1 2021-01-01 01:00:00                      48.19\n",
      "2 2021-01-01 02:00:00                      44.68\n",
      "3 2021-01-01 03:00:00                      42.92\n",
      "4 2021-01-01 04:00:00                      40.39\n",
      "\n",
      "Last Rows:\n",
      "                     Date  Day-ahead Price (EUR/MWh)\n",
      "35059 2024-12-31 19:00:00                      92.78\n",
      "35060 2024-12-31 20:00:00                      79.04\n",
      "35061 2024-12-31 21:00:00                      50.11\n",
      "35062 2024-12-31 22:00:00                      63.36\n",
      "35063 2024-12-31 23:00:00                      60.18\n",
      "----------------------------------------\n"
     ]
    }
   ],
   "source": [
    "df_prices = [drop_unecessary_columns(df, ['Area', 'Sequence', 'Intraday Period (CET/CEST)', 'Intraday Price (EUR/MWh)']) for df in df_prices] \n",
    "df_prices = [rename_and_reoder_columns(df, None, ['Date', 'Day-ahead Price (EUR/MWh)']) for df in df_prices]\n",
    "df_prices = [setup_time(df, 'Date', '%d/%m/%Y %H:%M:%S') for df in df_prices]\n",
    "df_prices = [fill_hourly_nans_by_rolling_mean(df, 'Date', 'Day-ahead Price (EUR/MWh)') for df in df_prices]\n",
    "\n",
    "df = concat_data(df_prices)\n",
    "df_summary(df)\n",
    "\n",
    "df.to_csv('../data/clean/exploitable/Concat_price.csv', index=False)"
   ]
  }
 ],
 "metadata": {
  "kernelspec": {
   "display_name": "Python 3",
   "language": "python",
   "name": "python3"
  },
  "language_info": {
   "codemirror_mode": {
    "name": "ipython",
    "version": 3
   },
   "file_extension": ".py",
   "mimetype": "text/x-python",
   "name": "python",
   "nbconvert_exporter": "python",
   "pygments_lexer": "ipython3",
   "version": "3.13.3"
  }
 },
 "nbformat": 4,
 "nbformat_minor": 5
}
