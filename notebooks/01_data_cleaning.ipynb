{
 "cells": [
  {
   "cell_type": "code",
   "execution_count": 2,
   "id": "6f2edd91",
   "metadata": {},
   "outputs": [],
   "source": [
    "# Auto-reload setup\n",
    "%load_ext autoreload\n",
    "%autoreload 2"
   ]
  },
  {
   "cell_type": "code",
   "execution_count": null,
   "id": "6973b4c4",
   "metadata": {},
   "outputs": [
    {
     "name": "stdout",
     "output_type": "stream",
     "text": [
      "Successful import\n"
     ]
    }
   ],
   "source": [
    "import sys\n",
    "import os\n",
    "sys.path.append(os.path.abspath(\"../src\"))\n",
    "\n",
    "from data_manipulation_func import load_epex_data, clean_data\n",
    "print('Successful import')\n",
    "df = load_epex_data('../data/2021_prices_raw.csv')\n",
    "df = clean_data(df)\n",
    "df.to_csv('../data/clean/2021_prices_clean.csv', index=False)"
   ]
  },
  {
   "cell_type": "code",
   "execution_count": 10,
   "id": "61872fc4",
   "metadata": {},
   "outputs": [],
   "source": [
    "from data_manipulation_func import exploitable_data\n",
    "\n",
    "folderpath = '../data/clean'\n",
    "df_concat = exploitable_data(folderpath)\n",
    "df_concat.to_csv(f'{folderpath}/exploitable/multiple_years.csv', index=False)"
   ]
  }
 ],
 "metadata": {
  "kernelspec": {
   "display_name": "Python 3",
   "language": "python",
   "name": "python3"
  },
  "language_info": {
   "codemirror_mode": {
    "name": "ipython",
    "version": 3
   },
   "file_extension": ".py",
   "mimetype": "text/x-python",
   "name": "python",
   "nbconvert_exporter": "python",
   "pygments_lexer": "ipython3",
   "version": "3.13.3"
  }
 },
 "nbformat": 4,
 "nbformat_minor": 5
}
