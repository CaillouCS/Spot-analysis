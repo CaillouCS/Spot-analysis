{
 "cells": [
  {
   "cell_type": "code",
   "execution_count": 1,
   "id": "6973b4c4",
   "metadata": {},
   "outputs": [
    {
     "name": "stdout",
     "output_type": "stream",
     "text": [
      "Successful import\n"
     ]
    },
    {
     "ename": "AttributeError",
     "evalue": "'DatetimeProperties' object has no attribute 'week'",
     "output_type": "error",
     "traceback": [
      "\u001b[31m---------------------------------------------------------------------------\u001b[39m",
      "\u001b[31mAttributeError\u001b[39m                            Traceback (most recent call last)",
      "\u001b[36mCell\u001b[39m\u001b[36m \u001b[39m\u001b[32mIn[1]\u001b[39m\u001b[32m, line 8\u001b[39m\n\u001b[32m      6\u001b[39m \u001b[38;5;28mprint\u001b[39m(\u001b[33m'\u001b[39m\u001b[33mSuccessful import\u001b[39m\u001b[33m'\u001b[39m)\n\u001b[32m      7\u001b[39m df = load_epex_data(\u001b[33m'\u001b[39m\u001b[33m../data/spot_prices_2025_raw.csv\u001b[39m\u001b[33m'\u001b[39m)\n\u001b[32m----> \u001b[39m\u001b[32m8\u001b[39m df = \u001b[43mclean_data\u001b[49m\u001b[43m(\u001b[49m\u001b[43mdf\u001b[49m\u001b[43m)\u001b[49m\n\u001b[32m      9\u001b[39m df.head()\n",
      "\u001b[36mFile \u001b[39m\u001b[32m~/Desktop/Energy project/epex-spot-analysis/src/data_manipulation_func.py:17\u001b[39m, in \u001b[36mclean_data\u001b[39m\u001b[34m(df)\u001b[39m\n\u001b[32m     15\u001b[39m df[\u001b[33m\"\u001b[39m\u001b[33mHour\u001b[39m\u001b[33m\"\u001b[39m] = df[\u001b[33m'\u001b[39m\u001b[33mMTU (CET/CEST)\u001b[39m\u001b[33m'\u001b[39m].dt.hour\n\u001b[32m     16\u001b[39m df[\u001b[33m\"\u001b[39m\u001b[33mWeekday\u001b[39m\u001b[33m\"\u001b[39m] = df[\u001b[33m'\u001b[39m\u001b[33mMTU (CET/CEST)\u001b[39m\u001b[33m'\u001b[39m].dt.day_name()\n\u001b[32m---> \u001b[39m\u001b[32m17\u001b[39m df[\u001b[33m\"\u001b[39m\u001b[33mWeek\u001b[39m\u001b[33m\"\u001b[39m] = \u001b[43mdf\u001b[49m\u001b[43m[\u001b[49m\u001b[33;43m'\u001b[39;49m\u001b[33;43mMTU (CET/CEST)\u001b[39;49m\u001b[33;43m'\u001b[39;49m\u001b[43m]\u001b[49m\u001b[43m.\u001b[49m\u001b[43mdt\u001b[49m\u001b[43m.\u001b[49m\u001b[43mweek\u001b[49m()\n\u001b[32m     18\u001b[39m df[\u001b[33m\"\u001b[39m\u001b[33mWeekend\u001b[39m\u001b[33m\"\u001b[39m] = df[\u001b[33m\"\u001b[39m\u001b[33mWeekday\u001b[39m\u001b[33m\"\u001b[39m].isin([\u001b[33m\"\u001b[39m\u001b[33mSaturday\u001b[39m\u001b[33m\"\u001b[39m, \u001b[33m\"\u001b[39m\u001b[33mSunday\u001b[39m\u001b[33m\"\u001b[39m])\n\u001b[32m     20\u001b[39m \u001b[38;5;28;01mreturn\u001b[39;00m df\n",
      "\u001b[31mAttributeError\u001b[39m: 'DatetimeProperties' object has no attribute 'week'"
     ]
    }
   ],
   "source": [
    "import sys\n",
    "import os\n",
    "sys.path.append(os.path.abspath(\"../src\"))\n",
    "\n",
    "from data_manipulation_func import load_epex_data, clean_data\n",
    "print('Successful import')\n",
    "df = load_epex_data('../data/spot_prices_2025_raw.csv')\n",
    "df = clean_data(df)\n",
    "df.head()"
   ]
  }
 ],
 "metadata": {
  "kernelspec": {
   "display_name": "Python 3",
   "language": "python",
   "name": "python3"
  },
  "language_info": {
   "codemirror_mode": {
    "name": "ipython",
    "version": 3
   },
   "file_extension": ".py",
   "mimetype": "text/x-python",
   "name": "python",
   "nbconvert_exporter": "python",
   "pygments_lexer": "ipython3",
   "version": "3.13.3"
  }
 },
 "nbformat": 4,
 "nbformat_minor": 5
}
